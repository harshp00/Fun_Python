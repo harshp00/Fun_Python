{
  "cells": [
    {
      "metadata": {
        "trusted": true
      },
      "cell_type": "code",
      "source": "\n# Function to calculate Sum \ndef OddSum(a, n): \n\n\todd = 0\n\tfor i in range(n): \n\n\t\t# Loop to find evem, odd Sum \n\t\tif i % 2 != 0:  \n\t\t\todd += a[i] \n\n\tprint (\"Odd index positions sum \", odd)\n\n# Driver Function \n\narr = [1, 2, 3, 4, 5, 6] \nn = len(arr) \n\nOddSum(arr, n) \n",
      "execution_count": 5,
      "outputs": [
        {
          "output_type": "stream",
          "text": "Odd index positions sum  12\n",
          "name": "stdout"
        }
      ]
    },
    {
      "metadata": {
        "trusted": true
      },
      "cell_type": "code",
      "source": "import numpy as np\n\na=int(input('Enter the number of float numbers'))\nar=np.empty(a,dtype=float)\nfor i in range(a):\n    b=float(input())\n    ar[i]=b\n    \nprint(ar)\nx=np.sort(ar)\nprint(x)\n",
      "execution_count": null,
      "outputs": []
    },
    {
      "metadata": {},
      "cell_type": "markdown",
      "source": ""
    },
    {
      "metadata": {
        "trusted": true
      },
      "cell_type": "code",
      "source": "import numpy as np\n\na=int(input('Enter the number of float numbers'))\nar=np.empty(a,dtype=float)\nfor i in range(a):\n    b=float(input())\n    ar[i]=b\n    \nprint(ar)\nx=np.sort(ar)\nprint(x)\n",
      "execution_count": 12,
      "outputs": [
        {
          "output_type": "stream",
          "name": "stdout",
          "text": "Enter the number of float numbers3\n1\n0\n10\n[ 1.  0. 10.]\n[ 0.  1. 10.]\n"
        }
      ]
    },
    {
      "metadata": {},
      "cell_type": "markdown",
      "source": " "
    }
  ],
  "metadata": {
    "kernelspec": {
      "name": "python36",
      "display_name": "Python 3.6",
      "language": "python"
    },
    "language_info": {
      "mimetype": "text/x-python",
      "nbconvert_exporter": "python",
      "name": "python",
      "pygments_lexer": "ipython3",
      "version": "3.6.6",
      "file_extension": ".py",
      "codemirror_mode": {
        "version": 3,
        "name": "ipython"
      }
    }
  },
  "nbformat": 4,
  "nbformat_minor": 2
}