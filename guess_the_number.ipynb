{
  "cells": [
    {
      "metadata": {
        "trusted": true
      },
      "cell_type": "code",
      "source": "#this is guess the number game.\nimport random\nprint(\"Hello!What is your name ?\")\nname=input()\nprint(\"Well,\"+name+\" I am thinking of a number between 1 and 20\")\n\nsecretNumber=random.randint(1,20)\n\nfor guessesTaken in range(1,7):\n    print(\"\")\n    print(\"Take a guess\") \n    try:\n        \n        guess=int(input())\n    except:\n        print(\"please enter a number\")\n        continue\n    if guess>secretNumber:\n        print(\"Your guess is too high \")\n    elif guess<secretNumber:\n        print(\"Your guess is too small\")\n    else:\n        break\n\nif guess==secretNumber:\n    print(\"Good Job, \"+name+ \" !you guesses my number in \"+ str(guessesTaken)+\" guesses\")\nelse:\n    print(\"Attempts over!!\")\n    print(\"Nope! I was thinking of \"+ str(secretNumber))",
      "execution_count": 9,
      "outputs": [
        {
          "output_type": "stream",
          "text": "hello!What is your name ?\nhh\nWell,hh I am thinking of a number between 1 and 20\n\nTake a guess\n12\nGood Job, hh !you guesses my number in 1 guesses\n",
          "name": "stdout"
        }
      ]
    },
    {
      "metadata": {
        "trusted": true
      },
      "cell_type": "code",
      "source": "",
      "execution_count": null,
      "outputs": []
    }
  ],
  "metadata": {
    "kernelspec": {
      "name": "python36",
      "display_name": "Python 3.6",
      "language": "python"
    },
    "language_info": {
      "mimetype": "text/x-python",
      "nbconvert_exporter": "python",
      "name": "python",
      "pygments_lexer": "ipython3",
      "version": "3.6.6",
      "file_extension": ".py",
      "codemirror_mode": {
        "version": 3,
        "name": "ipython"
      }
    }
  },
  "nbformat": 4,
  "nbformat_minor": 2
}