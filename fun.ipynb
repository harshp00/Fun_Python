{
  "cells": [
    {
      "metadata": {
        "trusted": true
      },
      "cell_type": "code",
      "source": "name='bob'\nage=3000\nif name==\"harsh\":\n    print(\"this is not bob\")\nelif age<=12:\n    print(\"bob age is more than 3000\")\nelif age >2000:\n    print(\"bob age is greater than 2000\")\nelif age>100:\n    print(\"bob age is greater than 100 \")\nelse :\n    print(\"bye bye \")",
      "execution_count": 4,
      "outputs": [
        {
          "output_type": "stream",
          "text": "bob age is greater than 2000\n",
          "name": "stdout"
        }
      ]
    },
    {
      "metadata": {
        "trusted": true
      },
      "cell_type": "code",
      "source": "!pip install pyperclip",
      "execution_count": 5,
      "outputs": [
        {
          "output_type": "stream",
          "text": "Collecting pyperclip\n  Downloading https://files.pythonhosted.org/packages/f6/5b/55866e1cde0f86f5eec59dab5de8a66628cb0d53da74b8dbc15ad8dabda3/pyperclip-1.8.0.tar.gz\nBuilding wheels for collected packages: pyperclip\n  Building wheel for pyperclip (setup.py) ... \u001b[?25ldone\n\u001b[?25h  Created wheel for pyperclip: filename=pyperclip-1.8.0-cp36-none-any.whl size=10072 sha256=dd30c70eb8c972e9ca3ffd87ecc08356b221784d5ee5b1fbc6ad49ead4784cd7\n  Stored in directory: /home/nbuser/.cache/pip/wheels/b2/ac/0a/b784f0afe26eaf52e88a7e15c7369090deea0354fa1c6fc689\nSuccessfully built pyperclip\nInstalling collected packages: pyperclip\nSuccessfully installed pyperclip-1.8.0\n\u001b[33mWARNING: You are using pip version 19.3.1; however, version 20.1 is available.\nYou should consider upgrading via the 'pip install --upgrade pip' command.\u001b[0m\n",
          "name": "stdout"
        }
      ]
    },
    {
      "metadata": {
        "trusted": true
      },
      "cell_type": "code",
      "source": "import pyperclip\npyperclip.copy(\"hello world\")\npyperclip.paste()",
      "execution_count": 6,
      "outputs": [
        {
          "output_type": "error",
          "ename": "PyperclipException",
          "evalue": "\n    Pyperclip could not find a copy/paste mechanism for your system.\n    For more information, please visit https://pyperclip.readthedocs.io/en/latest/index.html#not-implemented-error ",
          "traceback": [
            "\u001b[0;31m---------------------------------------------------------------------------\u001b[0m",
            "\u001b[0;31mPyperclipException\u001b[0m                        Traceback (most recent call last)",
            "\u001b[0;32m<ipython-input-6-a8971a9f9c3b>\u001b[0m in \u001b[0;36m<module>\u001b[0;34m\u001b[0m\n\u001b[1;32m      1\u001b[0m \u001b[0;32mimport\u001b[0m \u001b[0mpyperclip\u001b[0m\u001b[0;34m\u001b[0m\u001b[0m\n\u001b[0;32m----> 2\u001b[0;31m \u001b[0mpyperclip\u001b[0m\u001b[0;34m.\u001b[0m\u001b[0mcopy\u001b[0m\u001b[0;34m(\u001b[0m\u001b[0;34m\"hello world\"\u001b[0m\u001b[0;34m)\u001b[0m\u001b[0;34m\u001b[0m\u001b[0m\n\u001b[0m\u001b[1;32m      3\u001b[0m \u001b[0mpyperclip\u001b[0m\u001b[0;34m.\u001b[0m\u001b[0mpaste\u001b[0m\u001b[0;34m(\u001b[0m\u001b[0;34m)\u001b[0m\u001b[0;34m\u001b[0m\u001b[0m\n",
            "\u001b[0;32m~/anaconda3_501/lib/python3.6/site-packages/pyperclip/__init__.py\u001b[0m in \u001b[0;36mlazy_load_stub_copy\u001b[0;34m(text)\u001b[0m\n\u001b[1;32m    616\u001b[0m     \u001b[0;32mglobal\u001b[0m \u001b[0mcopy\u001b[0m\u001b[0;34m,\u001b[0m \u001b[0mpaste\u001b[0m\u001b[0;34m\u001b[0m\u001b[0m\n\u001b[1;32m    617\u001b[0m     \u001b[0mcopy\u001b[0m\u001b[0;34m,\u001b[0m \u001b[0mpaste\u001b[0m \u001b[0;34m=\u001b[0m \u001b[0mdetermine_clipboard\u001b[0m\u001b[0;34m(\u001b[0m\u001b[0;34m)\u001b[0m\u001b[0;34m\u001b[0m\u001b[0m\n\u001b[0;32m--> 618\u001b[0;31m     \u001b[0;32mreturn\u001b[0m \u001b[0mcopy\u001b[0m\u001b[0;34m(\u001b[0m\u001b[0mtext\u001b[0m\u001b[0;34m)\u001b[0m\u001b[0;34m\u001b[0m\u001b[0m\n\u001b[0m\u001b[1;32m    619\u001b[0m \u001b[0;34m\u001b[0m\u001b[0m\n\u001b[1;32m    620\u001b[0m \u001b[0;34m\u001b[0m\u001b[0m\n",
            "\u001b[0;32m~/anaconda3_501/lib/python3.6/site-packages/pyperclip/__init__.py\u001b[0m in \u001b[0;36m__call__\u001b[0;34m(self, *args, **kwargs)\u001b[0m\n\u001b[1;32m    301\u001b[0m \u001b[0;34m\u001b[0m\u001b[0m\n\u001b[1;32m    302\u001b[0m         \u001b[0;32mdef\u001b[0m \u001b[0m__call__\u001b[0m\u001b[0;34m(\u001b[0m\u001b[0mself\u001b[0m\u001b[0;34m,\u001b[0m \u001b[0;34m*\u001b[0m\u001b[0margs\u001b[0m\u001b[0;34m,\u001b[0m \u001b[0;34m**\u001b[0m\u001b[0mkwargs\u001b[0m\u001b[0;34m)\u001b[0m\u001b[0;34m:\u001b[0m\u001b[0;34m\u001b[0m\u001b[0m\n\u001b[0;32m--> 303\u001b[0;31m             \u001b[0;32mraise\u001b[0m \u001b[0mPyperclipException\u001b[0m\u001b[0;34m(\u001b[0m\u001b[0mEXCEPT_MSG\u001b[0m\u001b[0;34m)\u001b[0m\u001b[0;34m\u001b[0m\u001b[0m\n\u001b[0m\u001b[1;32m    304\u001b[0m \u001b[0;34m\u001b[0m\u001b[0m\n\u001b[1;32m    305\u001b[0m         \u001b[0;32mif\u001b[0m \u001b[0mPY2\u001b[0m\u001b[0;34m:\u001b[0m\u001b[0;34m\u001b[0m\u001b[0m\n",
            "\u001b[0;31mPyperclipException\u001b[0m: \n    Pyperclip could not find a copy/paste mechanism for your system.\n    For more information, please visit https://pyperclip.readthedocs.io/en/latest/index.html#not-implemented-error "
          ]
        }
      ]
    },
    {
      "metadata": {
        "trusted": true
      },
      "cell_type": "code",
      "source": "def spam:\n    global eggs\n    eggs='hello'\n    print(eggs)\neggs=43\nspam()\nprint(eggs)",
      "execution_count": null,
      "outputs": []
    },
    {
      "metadata": {
        "trusted": true
      },
      "cell_type": "code",
      "source": "list=['h','j','k']\nfor i in (list):\n    print(i)\n",
      "execution_count": 6,
      "outputs": [
        {
          "output_type": "stream",
          "text": "h\nj\nk\n",
          "name": "stdout"
        }
      ]
    },
    {
      "metadata": {
        "trusted": true
      },
      "cell_type": "code",
      "source": "cheese=[1,2,3]\nspam=cheese\nspam.append(4)\nprint(spam)\nprint(cheese)",
      "execution_count": 8,
      "outputs": [
        {
          "output_type": "stream",
          "text": "[1, 2, 3, 4]\n[1, 2, 3, 4]\n",
          "name": "stdout"
        }
      ]
    },
    {
      "metadata": {
        "trusted": true
      },
      "cell_type": "code",
      "source": "#solution to avoid this is \nimport copy\ncheese=[1,2,3]\nspam=copy.deepcopy(cheese)\nspam[1]='B'\nprint(spam)\nprint(cheese)",
      "execution_count": 10,
      "outputs": [
        {
          "output_type": "stream",
          "text": "[1, 'B', 3]\n[1, 2, 3]\n",
          "name": "stdout"
        }
      ]
    },
    {
      "metadata": {
        "trusted": true
      },
      "cell_type": "code",
      "source": "eggs={'name':'kity','age':8,'species':'labacoa'}\neggs.get('age',0)\n",
      "execution_count": 3,
      "outputs": [
        {
          "output_type": "execute_result",
          "execution_count": 3,
          "data": {
            "text/plain": "8"
          },
          "metadata": {}
        }
      ]
    },
    {
      "metadata": {
        "trusted": true
      },
      "cell_type": "code",
      "source": "eggs.get('flavour','')\nprint(eggs)",
      "execution_count": 20,
      "outputs": [
        {
          "output_type": "stream",
          "text": "{'name': 'kity', 'age': 8, 'species': 'labacoa', 'color': 'black', 'type': 'cat'}\n",
          "name": "stdout"
        }
      ]
    },
    {
      "metadata": {
        "trusted": true
      },
      "cell_type": "code",
      "source": "eggs.values()",
      "execution_count": 8,
      "outputs": [
        {
          "output_type": "execute_result",
          "execution_count": 8,
          "data": {
            "text/plain": "dict_values(['kity', 8, 'labacoa'])"
          },
          "metadata": {}
        }
      ]
    },
    {
      "metadata": {
        "trusted": true
      },
      "cell_type": "code",
      "source": "print(eggs.keys())\nprint(eggs.items())",
      "execution_count": 9,
      "outputs": [
        {
          "output_type": "stream",
          "text": "dict_keys(['name', 'age', 'species'])\ndict_items([('name', 'kity'), ('age', 8), ('species', 'labacoa')])\n",
          "name": "stdout"
        }
      ]
    },
    {
      "metadata": {
        "trusted": true
      },
      "cell_type": "code",
      "source": "if 'color' not in eggs:\n    eggs['color']='black'",
      "execution_count": 13,
      "outputs": []
    },
    {
      "metadata": {
        "trusted": true
      },
      "cell_type": "code",
      "source": "eggs",
      "execution_count": 14,
      "outputs": [
        {
          "output_type": "execute_result",
          "execution_count": 14,
          "data": {
            "text/plain": "{'name': 'kity', 'age': 8, 'species': 'labacoa', 'color': 'black'}"
          },
          "metadata": {}
        }
      ]
    },
    {
      "metadata": {
        "trusted": true
      },
      "cell_type": "code",
      "source": "eggs.setdefault('color','orange')",
      "execution_count": 15,
      "outputs": [
        {
          "output_type": "execute_result",
          "execution_count": 15,
          "data": {
            "text/plain": "'black'"
          },
          "metadata": {}
        }
      ]
    },
    {
      "metadata": {
        "trusted": true
      },
      "cell_type": "code",
      "source": "eggs.setdefault('type','cat')",
      "execution_count": 16,
      "outputs": [
        {
          "output_type": "execute_result",
          "execution_count": 16,
          "data": {
            "text/plain": "'cat'"
          },
          "metadata": {}
        }
      ]
    },
    {
      "metadata": {
        "trusted": true
      },
      "cell_type": "code",
      "source": "eggs\nprint(eggs['name'])",
      "execution_count": 22,
      "outputs": [
        {
          "output_type": "stream",
          "text": "kity\n",
          "name": "stdout"
        }
      ]
    },
    {
      "metadata": {},
      "cell_type": "markdown",
      "source": "# Number of letters in sentence"
    },
    {
      "metadata": {
        "trusted": true
      },
      "cell_type": "code",
      "source": "\nmessage='hey my name is harsh whats your name ???Hope you are doing fine here!'\ncount={} #dictionary\nfor character in message.upper():\n    count.setdefault(character,0)\n    count[character]=count[character]+1 \n\nprint(count)",
      "execution_count": 18,
      "outputs": [
        {
          "output_type": "stream",
          "text": "{'H': 6, 'E': 8, 'Y': 4, ' ': 13, 'M': 3, 'N': 4, 'A': 5, 'I': 3, 'S': 3, 'R': 4, 'W': 1, 'T': 1, 'O': 4, 'U': 2, '?': 3, 'P': 1, 'D': 1, 'G': 1, 'F': 1, '!': 1}\n",
          "name": "stdout"
        }
      ]
    },
    {
      "metadata": {
        "trusted": true
      },
      "cell_type": "code",
      "source": "import pprint# preety print\nmessage='hey my name is harsh whats your name ???Hope you are doing fine here!'\ncount={} #dictionary\nfor character in message.upper():\n    count.setdefault(character,0)\n    count[character]=count[character]+1 \n\npprint.pprint(count)\n",
      "execution_count": 23,
      "outputs": [
        {
          "output_type": "stream",
          "text": "{' ': 13,\n '!': 1,\n '?': 3,\n 'A': 5,\n 'D': 1,\n 'E': 8,\n 'F': 1,\n 'G': 1,\n 'H': 6,\n 'I': 3,\n 'M': 3,\n 'N': 4,\n 'O': 4,\n 'P': 1,\n 'R': 4,\n 'S': 3,\n 'T': 1,\n 'U': 2,\n 'W': 1,\n 'Y': 4}\n",
          "name": "stdout"
        }
      ]
    },
    {
      "metadata": {
        "trusted": true
      },
      "cell_type": "code",
      "source": "import pprint# preety print\nmessage='hey my name is harsh whats your name ???Hope you are doing fine here!'\ncount={} #dictionary\nfor character in message.upper():\n    count.setdefault(character,0)\n    count[character]=count[character]+1 \n\nIn_string=pprint.pformat(count)\nprint(In_string)\n",
      "execution_count": 26,
      "outputs": [
        {
          "output_type": "stream",
          "text": "{' ': 13,\n '!': 1,\n '?': 3,\n 'A': 5,\n 'D': 1,\n 'E': 8,\n 'F': 1,\n 'G': 1,\n 'H': 6,\n 'I': 3,\n 'M': 3,\n 'N': 4,\n 'O': 4,\n 'P': 1,\n 'R': 4,\n 'S': 3,\n 'T': 1,\n 'U': 2,\n 'W': 1,\n 'Y': 4}\n",
          "name": "stdout"
        }
      ]
    },
    {
      "metadata": {},
      "cell_type": "markdown",
      "source": "# ---------------------------------------------------------------------------------------------------------------------------------"
    },
    {
      "metadata": {},
      "cell_type": "markdown",
      "source": "# Phone Number without regular Expression"
    },
    {
      "metadata": {
        "trusted": true
      },
      "cell_type": "code",
      "source": "def isPhoneNumber(text):#415-555-1234\n    if len(text) !=12:\n        return False\n    for i in range(0,3):\n        if not text[i].isdecimal():\n            return False\n    if text[3]!='-':\n        return False\n    for i in range(4,7):\n        if not text[i].isdecimal():\n            return False\n    if text[7]!='-':\n        return False\n    for i in range(8,12):\n        if not text[i].isdecimal():\n            return False\n    return True\n#isPhoneNumber('415-555-1234')\n\nmessage='Call me 415-555-6445 tomorrow ,or at 455-888-9757 tomorrow'\nfoundNumber=False\n\nfor i in range(len(message)):\n    chunk =message[i:i+12]\n    if isPhoneNumber(chunk):\n        print('Phone Number Found :'+ chunk)\n        foundNumber=True\nif not foundNumber:\n    print('could not found phone number')\n\n\n\n\n    ber Found :415-555-6445\nPhone Number Found :455-888-9757",
      "execution_count": 3,
      "outputs": [
        {
          "output_type": "stream",
          "text": "Phone Number Found :415-555-6445\nPhone Number Found :455-888-9757\n",
          "name": "stdout"
        }
      ]
    },
    {
      "metadata": {},
      "cell_type": "markdown",
      "source": "#  REGULAR EXPRESSIONS"
    },
    {
      "metadata": {
        "trusted": true
      },
      "cell_type": "code",
      "source": "import re\n\nmessage='Call me 415-555-6445 tomorrow ,or at 455-888-9757 tomorrow'\n\nphoneNumRegex=re.compile(r'\\d\\d\\d-\\d\\d\\d-\\d\\d\\d\\d')\nmatchobj=phoneNumRegex.search(message)\nprint(matchobj.group())\n\nprint(phoneNumRegex.findall(message))\n\n\n",
      "execution_count": 7,
      "outputs": [
        {
          "output_type": "stream",
          "text": "415-555-6445\n['415-555-6445', '455-888-9757']\n",
          "name": "stdout"
        }
      ]
    },
    {
      "metadata": {
        "trusted": true
      },
      "cell_type": "code",
      "source": "phoneNumRegex=re.compile(r'(\\d\\d\\d)-(\\d\\d\\d-\\d\\d\\d\\d)')\nmatchobj=phoneNumRegex.search(message)\nprint(matchobj.group())\nprint(matchobj.group(1))\nprint(matchobj.group(2))\n",
      "execution_count": 10,
      "outputs": [
        {
          "output_type": "stream",
          "text": "415-555-6445\n415\n555-6445\n",
          "name": "stdout"
        }
      ]
    },
    {
      "metadata": {
        "trusted": true
      },
      "cell_type": "code",
      "source": "phoneNumRegex=re.compile(r'\\(\\d\\d\\d\\) \\d\\d\\d-\\d\\d\\d\\d')\nmatchobj=phoneNumRegex.search('hey hey (999) 765-7889')\nmatchobj.group()",
      "execution_count": 17,
      "outputs": [
        {
          "output_type": "execute_result",
          "execution_count": 17,
          "data": {
            "text/plain": "'(999) 765-7889'"
          },
          "metadata": {}
        }
      ]
    },
    {
      "metadata": {
        "trusted": true
      },
      "cell_type": "code",
      "source": "batRegex=re.compile(r'Bat|man|mobile|bat')\nmo=batRegex.search('I am a Batman')\nmo.group()                   ",
      "execution_count": 19,
      "outputs": [
        {
          "output_type": "execute_result",
          "execution_count": 19,
          "data": {
            "text/plain": "'Bat'"
          },
          "metadata": {}
        }
      ]
    },
    {
      "metadata": {
        "trusted": true
      },
      "cell_type": "code",
      "source": "batRegex=re.compile(r'Bat(Wo)?man')#0 or 1 times\nmo=batRegex.search('I am a BatWoman')\nprint(mo.group())\nmo=batRegex.search('I am a Batman')\nprint(mo.group())\n",
      "execution_count": 25,
      "outputs": [
        {
          "output_type": "stream",
          "text": "BatWoman\nBatman\n",
          "name": "stdout"
        }
      ]
    },
    {
      "metadata": {
        "trusted": true
      },
      "cell_type": "code",
      "source": "phoneNumRegex=re.compile(r'(\\d\\d\\d-)?(\\d\\d\\d-\\d\\d\\d\\d)')\nmatchobj=phoneNumRegex.search('Call me 555-6445 tomorrow ,or at 455-888-9757 tomorrow')\nprint(matchobj.group())\n",
      "execution_count": 29,
      "outputs": [
        {
          "output_type": "stream",
          "text": "555-6445\n",
          "name": "stdout"
        }
      ]
    },
    {
      "metadata": {
        "trusted": true
      },
      "cell_type": "code",
      "source": "batRegex=re.compile(r'Bat(Wo)*man')#0 or more times\nmo=batRegex.search('I am a BatWoWoWoWoman')\nprint(mo.group())\n",
      "execution_count": 30,
      "outputs": [
        {
          "output_type": "stream",
          "text": "BatWoWoWoWoman\n",
          "name": "stdout"
        }
      ]
    },
    {
      "metadata": {
        "trusted": true
      },
      "cell_type": "code",
      "source": "batRegex=re.compile(r'Bat(Wo)+man')#1 or more times\nmo=batRegex.search('I am a BatWoman')\nprint(mo.group())\n",
      "execution_count": 32,
      "outputs": [
        {
          "output_type": "stream",
          "text": "BatWoman\n",
          "name": "stdout"
        }
      ]
    },
    {
      "metadata": {
        "trusted": true
      },
      "cell_type": "code",
      "source": "regex=re.compile(r'\\+\\*\\?')\nmo=regex.search('i learned about +*?')\nprint(mo.group())",
      "execution_count": 34,
      "outputs": [
        {
          "output_type": "stream",
          "text": "+*?\n",
          "name": "stdout"
        }
      ]
    },
    {
      "metadata": {
        "trusted": true
      },
      "cell_type": "code",
      "source": "haRegex=re.compile(r'(ha){3}')\nmo=haRegex.search('i hahaha')\nprint(mo.group())",
      "execution_count": 40,
      "outputs": [
        {
          "output_type": "stream",
          "text": "hahaha\n",
          "name": "stdout"
        }
      ]
    },
    {
      "metadata": {
        "trusted": true
      },
      "cell_type": "code",
      "source": "phoneNumRegex=re.compile(r'((\\d\\d\\d-)?\\d\\d\\d-\\d\\d\\d\\d(,)?){3}')\nmatchobj=phoneNumRegex.search('Call me 555-6445,897-876-2345,123-456-8764')\nprint(matchobj.group())\n",
      "execution_count": 42,
      "outputs": [
        {
          "output_type": "stream",
          "text": "555-6445,897-876-2345,123-456-8764\n",
          "name": "stdout"
        }
      ]
    },
    {
      "metadata": {
        "trusted": true
      },
      "cell_type": "code",
      "source": "haRegex=re.compile(r'(ha){3,5}')\nmo=haRegex.search('i hahahaha')\nprint(mo.group())",
      "execution_count": 43,
      "outputs": [
        {
          "output_type": "stream",
          "text": "hahahaha\n",
          "name": "stdout"
        }
      ]
    },
    {
      "metadata": {
        "trusted": true
      },
      "cell_type": "code",
      "source": "haRegex=re.compile(r'(ha){3,}')\nmo=haRegex.search('i hahahahahahahaha')\nprint(mo.group())",
      "execution_count": 44,
      "outputs": [
        {
          "output_type": "stream",
          "text": "hahahahahahahaha\n",
          "name": "stdout"
        }
      ]
    },
    {
      "metadata": {
        "trusted": true
      },
      "cell_type": "code",
      "source": "digitReg=re.compile(r'(\\d){3,5}') #Greedy match as it matches 12345\nmo=digitReg.search('1234567890')\nprint(mo.group())",
      "execution_count": 46,
      "outputs": [
        {
          "output_type": "stream",
          "text": "12345\n",
          "name": "stdout"
        }
      ]
    },
    {
      "metadata": {
        "trusted": true
      },
      "cell_type": "code",
      "source": "digitReg=re.compile(r'(\\d){3,5}?') # ? here does NonGreedy match as it matches 123 i.e smallest number of times \nmo=digitReg.search('1234567890')\nprint(mo.group())",
      "execution_count": 47,
      "outputs": [
        {
          "output_type": "stream",
          "text": "123\n",
          "name": "stdout"
        }
      ]
    },
    {
      "metadata": {
        "trusted": true
      },
      "cell_type": "code",
      "source": "import re\nphoneRegex=re.compile(r'((\\d\\d\\d)-(\\d\\d\\d-\\d\\d\\d\\d))')\nprint(phoneRegex.findall('Call me 415-555-6445 tomorrow ,or at 455-888-9757 tomorrow'))# returns tuple since multiple gropus\n",
      "execution_count": 3,
      "outputs": [
        {
          "output_type": "stream",
          "text": "[('415-555-6445', '415', '555-6445'), ('455-888-9757', '455', '888-9757')]\n",
          "name": "stdout"
        }
      ]
    },
    {
      "metadata": {
        "trusted": true
      },
      "cell_type": "code",
      "source": "lyrics=\"\"\"On the first day of Christmas\nMy true love gave to me\nA partridge in a pear tree\nOn the second day of Christmas\nMy true love gave to me\n2 turtle doves\nAnd a partridge in a pear tree\nOn the third day of Christmas\nMy true love gave to me\n3 French hens\n2 turtle doves\nAnd a partridge in a pear tree\nOn the fourth day of Christmas\nMy true love gave to me\n4 calling birds\n3 French hens\n2 turtle doves\nAnd a partridge in a pear tree\nOn the fifth day of Christmas\nMy true love gave to me\n5 gold rings\n4 calling birds\n3 French hens\n2 turtle doves\nAnd a partridge in a pear tree\nOn the sixth day of Christmas\nMy true love gave to me\n6 geese a laying\n5 gold rings\n4 calling birds\n3 French hens\n2 turtle doves\nAnd a partridge in a pear tree\n\"\"\"\n\nxmasRegex=re.compile(r'\\d+\\s\\w+')\nxmasRegex.findall(lyrics)\n",
      "execution_count": 5,
      "outputs": [
        {
          "output_type": "execute_result",
          "execution_count": 5,
          "data": {
            "text/plain": "['2 turtle',\n '3 French',\n '2 turtle',\n '4 calling',\n '3 French',\n '2 turtle',\n '5 gold',\n '4 calling',\n '3 French',\n '2 turtle',\n '6 geese',\n '5 gold',\n '4 calling',\n '3 French',\n '2 turtle']"
          },
          "metadata": {}
        }
      ]
    },
    {
      "metadata": {
        "trusted": true
      },
      "cell_type": "code",
      "source": "vowelReg=re.compile(r'[aeiou]') #(a|e|i|o|u)\nvowelReg.findall(\"Robocap eats baby food\")",
      "execution_count": 7,
      "outputs": [
        {
          "output_type": "execute_result",
          "execution_count": 7,
          "data": {
            "text/plain": "['o', 'o', 'a', 'e', 'a', 'a', 'o', 'o']"
          },
          "metadata": {}
        }
      ]
    },
    {
      "metadata": {
        "trusted": true
      },
      "cell_type": "code",
      "source": "vowelReg=re.compile(r'[aeiouAEIOU]{2}') #(a|e|i|o|u)\nvowelReg.findall(\"Robocap eats baby food\")",
      "execution_count": 8,
      "outputs": [
        {
          "output_type": "execute_result",
          "execution_count": 8,
          "data": {
            "text/plain": "['ea', 'oo']"
          },
          "metadata": {}
        }
      ]
    },
    {
      "metadata": {
        "trusted": true
      },
      "cell_type": "code",
      "source": "vowelReg=re.compile(r'[^aeiouAEIOU]') # negation of (a|e|i|o|u)\nvowelReg.findall(\"Robocap eats baby food\")",
      "execution_count": 9,
      "outputs": [
        {
          "output_type": "execute_result",
          "execution_count": 9,
          "data": {
            "text/plain": "['R', 'b', 'c', 'p', ' ', 't', 's', ' ', 'b', 'b', 'y', ' ', 'f', 'd']"
          },
          "metadata": {}
        }
      ]
    },
    {
      "metadata": {
        "trusted": true
      },
      "cell_type": "code",
      "source": "beginWithHelloReg=re.compile(r'^Hello')# Hello at start\nbeginWithHelloReg.search('Hello there!')",
      "execution_count": 10,
      "outputs": [
        {
          "output_type": "execute_result",
          "execution_count": 10,
          "data": {
            "text/plain": "<_sre.SRE_Match object; span=(0, 5), match='Hello'>"
          },
          "metadata": {}
        }
      ]
    },
    {
      "metadata": {
        "trusted": true
      },
      "cell_type": "code",
      "source": "endWithHelloReg=re.compile(r'Hello$')\nendWithHelloReg.search('Hi there Hello')==None",
      "execution_count": 16,
      "outputs": [
        {
          "output_type": "execute_result",
          "execution_count": 16,
          "data": {
            "text/plain": "False"
          },
          "metadata": {}
        }
      ]
    },
    {
      "metadata": {
        "trusted": true
      },
      "cell_type": "code",
      "source": "AllDigitReg=re.compile(r'^\\d+$')\nAllDigitReg.search('343546356635445')==None",
      "execution_count": 18,
      "outputs": [
        {
          "output_type": "execute_result",
          "execution_count": 18,
          "data": {
            "text/plain": "False"
          },
          "metadata": {}
        }
      ]
    },
    {
      "metadata": {
        "trusted": true
      },
      "cell_type": "code",
      "source": "atReg=re.compile(r'.at')# returns a single character before at\natReg.findall(\"The Cat on the Mat sat on the flat mat\")",
      "execution_count": 19,
      "outputs": [
        {
          "output_type": "execute_result",
          "execution_count": 19,
          "data": {
            "text/plain": "['Cat', 'Mat', 'sat', 'lat', 'mat']"
          },
          "metadata": {}
        }
      ]
    },
    {
      "metadata": {
        "trusted": true
      },
      "cell_type": "code",
      "source": "atReg=re.compile(r'.{1,2}at')\natReg.findall(\"The Cat on the Mat sat on the flat mat\")",
      "execution_count": 20,
      "outputs": [
        {
          "output_type": "execute_result",
          "execution_count": 20,
          "data": {
            "text/plain": "[' Cat', ' Mat', ' sat', 'flat', ' mat']"
          },
          "metadata": {}
        }
      ]
    },
    {
      "metadata": {
        "trusted": true
      },
      "cell_type": "code",
      "source": "nameRegex=re.compile(r'First Name: (.*) Last Name: (.*)')  #.*==greedy and .*?==non greedy\nnameRegex.findall('First Name: Harsh Last Name: Pandya')",
      "execution_count": 23,
      "outputs": [
        {
          "output_type": "execute_result",
          "execution_count": 23,
          "data": {
            "text/plain": "[('Harsh', 'Pandya')]"
          },
          "metadata": {}
        }
      ]
    },
    {
      "metadata": {
        "trusted": true
      },
      "cell_type": "code",
      "source": "#non greedy \n\nserve='<hey i am harsh> and i am coding>'\nnongreedy=re.compile(r'<(.*?)>')\nnongreedy.findall(serve)",
      "execution_count": 26,
      "outputs": [
        {
          "output_type": "execute_result",
          "execution_count": 26,
          "data": {
            "text/plain": "['hey i am harsh']"
          },
          "metadata": {}
        }
      ]
    },
    {
      "metadata": {
        "trusted": true
      },
      "cell_type": "code",
      "source": "# greedy\nserve='<hey i am harsh> and i am coding>'\nnongreedy=re.compile(r'<(.*)>')\nnongreedy.findall(serve)",
      "execution_count": 27,
      "outputs": [
        {
          "output_type": "execute_result",
          "execution_count": 27,
          "data": {
            "text/plain": "['hey i am harsh> and i am coding']"
          },
          "metadata": {}
        }
      ]
    },
    {
      "metadata": {
        "trusted": true
      },
      "cell_type": "code",
      "source": "\nname='hi.\\ni.\\nam.\\nharsh '\ndotStar=re.compile(r'.*')\ndotStar.search(name)",
      "execution_count": 31,
      "outputs": [
        {
          "output_type": "execute_result",
          "execution_count": 31,
          "data": {
            "text/plain": "<_sre.SRE_Match object; span=(0, 3), match='hi.'>"
          },
          "metadata": {}
        }
      ]
    },
    {
      "metadata": {
        "trusted": true
      },
      "cell_type": "code",
      "source": "name='hi.\\ni.\\nam.\\nharsh '\ndotStar=re.compile(r'.*',re.DOTALL)\ndotStar.search(name)",
      "execution_count": 32,
      "outputs": [
        {
          "output_type": "execute_result",
          "execution_count": 32,
          "data": {
            "text/plain": "<_sre.SRE_Match object; span=(0, 17), match='hi.\\ni.\\nam.\\nharsh '>"
          },
          "metadata": {}
        }
      ]
    },
    {
      "metadata": {
        "trusted": true
      },
      "cell_type": "code",
      "source": "vowelReg=re.compile(r'[aeiou]',re.I)\nvowelReg.findall('hi a hi e hi o hi u a and also hi A and E and I')",
      "execution_count": 34,
      "outputs": [
        {
          "output_type": "execute_result",
          "execution_count": 34,
          "data": {
            "text/plain": "['i',\n 'a',\n 'i',\n 'e',\n 'i',\n 'o',\n 'i',\n 'u',\n 'a',\n 'a',\n 'a',\n 'o',\n 'i',\n 'A',\n 'a',\n 'E',\n 'a',\n 'I']"
          },
          "metadata": {}
        }
      ]
    },
    {
      "metadata": {
        "trusted": true
      },
      "cell_type": "code",
      "source": "message=\"Agent Alice gave secret document to Agent Bob\"\nnameReg=re.compile(r'Agent \\w+')\nnameReg.findall(message)",
      "execution_count": 35,
      "outputs": [
        {
          "output_type": "execute_result",
          "execution_count": 35,
          "data": {
            "text/plain": "['Agent Alice', 'Agent Bob']"
          },
          "metadata": {}
        }
      ]
    },
    {
      "metadata": {
        "trusted": true
      },
      "cell_type": "code",
      "source": "nameReg.sub('REDACTED',message)",
      "execution_count": 36,
      "outputs": [
        {
          "output_type": "execute_result",
          "execution_count": 36,
          "data": {
            "text/plain": "'REDACTED gave secret document to REDACTED'"
          },
          "metadata": {}
        }
      ]
    },
    {
      "metadata": {
        "trusted": true
      },
      "cell_type": "code",
      "source": "nameReg=re.compile(r'Agent (\\w)\\w*')\nnameReg.findall(message)",
      "execution_count": 43,
      "outputs": [
        {
          "output_type": "execute_result",
          "execution_count": 43,
          "data": {
            "text/plain": "['A', 'B']"
          },
          "metadata": {}
        }
      ]
    },
    {
      "metadata": {
        "trusted": true
      },
      "cell_type": "code",
      "source": "nameReg.sub('Agent \\1****',message)",
      "execution_count": 49,
      "outputs": [
        {
          "output_type": "execute_result",
          "execution_count": 49,
          "data": {
            "text/plain": "'Agent \\x01**** gave secret document to Agent \\x01****'"
          },
          "metadata": {}
        }
      ]
    },
    {
      "metadata": {
        "trusted": true
      },
      "cell_type": "code",
      "source": "# VERBOSE Example\n\n''' re.compile(r'\n(\\d\\d\\d-)|\n(\\(\\d\\d\\d))\n\\d\\d\\d\\d',re.I|re.DOTALL|re.VERBOSE)'''",
      "execution_count": 50,
      "outputs": [
        {
          "output_type": "execute_result",
          "execution_count": 50,
          "data": {
            "text/plain": "\" re.compile(r'\\n(\\\\d\\\\d\\\\d-)|\\n(\\\\(\\\\d\\\\d\\\\d))\\n\\\\d\\\\d\\\\d\\\\d',re.I|re.DOTALL|re.VERBOSE)\""
          },
          "metadata": {}
        }
      ]
    },
    {
      "metadata": {
        "trusted": true
      },
      "cell_type": "code",
      "source": "!pip install pyperclip\nimport re, pyperclip",
      "execution_count": 2,
      "outputs": [
        {
          "output_type": "stream",
          "text": "Collecting pyperclip\n  Downloading https://files.pythonhosted.org/packages/f6/5b/55866e1cde0f86f5eec59dab5de8a66628cb0d53da74b8dbc15ad8dabda3/pyperclip-1.8.0.tar.gz\nBuilding wheels for collected packages: pyperclip\n  Building wheel for pyperclip (setup.py) ... \u001b[?25ldone\n\u001b[?25h  Created wheel for pyperclip: filename=pyperclip-1.8.0-cp36-none-any.whl size=10072 sha256=eb9005fe17ab11e6ec22c20fdced9ce2b4f0e9759920a8b9861a0215b4fd282a\n  Stored in directory: /home/nbuser/.cache/pip/wheels/b2/ac/0a/b784f0afe26eaf52e88a7e15c7369090deea0354fa1c6fc689\nSuccessfully built pyperclip\nInstalling collected packages: pyperclip\nSuccessfully installed pyperclip-1.8.0\n\u001b[33mWARNING: You are using pip version 19.3.1; however, version 20.1.1 is available.\nYou should consider upgrading via the 'pip install --upgrade pip' command.\u001b[0m\n",
          "name": "stdout"
        }
      ]
    },
    {
      "metadata": {
        "trusted": true
      },
      "cell_type": "code",
      "source": "    try:\n        \n        #regex for phone\n\n        PhoneRegex=re.compile(r'''\n        #455-567-5644, 555-0000 ,(124) 555-5454 ext 12345,ext.12345,x12345\n        (\n        ((\\d\\d\\d)|(\\(\\d\\d\\d)))? #area code (optional)\n        (\\s|-) # first separator \n        \\d\\d\\d #first 3 digits\n        -      #separator\n        \\d\\d\\d\\d   #last 4 digits \n        (((ext(\\.)?\\s)|x)   #extension word  part(optional)\n        (\\d{2,5})))?        #extension number part (optional) \n        )\n        ''',re.VERBOSE)\n\n        #regex for email \n\n        emailRegex=re.compile (r'''\n\n        [a-zA-Z0-9_.+]+  #name part\n        @                # @ symbol\n        [a-zA-Z0-9_.+]+  #domain name part \n\n        ''',re.VERBOSE)\n\n\n        # get the text off the clipboard \n        text =pyperclip.paste()\n\n        # Extract email from the email/phone form text \n\n        extractedPhone=PhoneRegex.findall(text)\n        extractedEmail=emailRegex.findall(text)\n\n\n        allPhoneNumbers=[]\n        for PhoneNumbers in extractedPhone:    #PhoneNumbers here is tuple \n            allPhoneNumbers.append(PhoneNumbers[0])\n\n        print(allPhoneNumbers)\n\n\n        # copy every extracted email and phone in clipboard \n\n        result='\\n'.join(allPhoneNumbers) + '\\n' + '\\n'.join(extractedEmail)\n\n        # copy to clipboard\n        pyperclip.copy(results)\n    \n    except:\n        \n        \n        print('clipboard doesnt works Here')",
      "execution_count": 4,
      "outputs": [
        {
          "output_type": "stream",
          "text": "clipboard doesnt works Here\n",
          "name": "stdout"
        }
      ]
    },
    {
      "metadata": {
        "trusted": true
      },
      "cell_type": "code",
      "source": "import os\nos.path.join('folder1','folder2','folder3','file.png')",
      "execution_count": 1,
      "outputs": [
        {
          "output_type": "execute_result",
          "execution_count": 1,
          "data": {
            "text/plain": "'folder1/folder2/folder3/file.png'"
          },
          "metadata": {}
        }
      ]
    },
    {
      "metadata": {
        "trusted": true
      },
      "cell_type": "code",
      "source": "os.sep",
      "execution_count": 2,
      "outputs": [
        {
          "output_type": "execute_result",
          "execution_count": 2,
          "data": {
            "text/plain": "'/'"
          },
          "metadata": {}
        }
      ]
    },
    {
      "metadata": {
        "trusted": true
      },
      "cell_type": "code",
      "source": "os.getcwd()",
      "execution_count": 3,
      "outputs": [
        {
          "output_type": "execute_result",
          "execution_count": 3,
          "data": {
            "text/plain": "'/home/nbuser/library'"
          },
          "metadata": {}
        }
      ]
    },
    {
      "metadata": {
        "trusted": true
      },
      "cell_type": "code",
      "source": "#to change directory \n#os.chdir('/')",
      "execution_count": null,
      "outputs": []
    },
    {
      "metadata": {},
      "cell_type": "markdown",
      "source": "# Assertion"
    },
    {
      "metadata": {
        "trusted": true
      },
      "cell_type": "code",
      "source": "def Boxprint(symbol,width,height):\n    if len(symbol)!=1:\n        raise Exception('\"symbol\" needs to a string of length 1')\n    if (width<2) or (height<2):\n        raise Exception('\"width\" and \"height\" must be greater or equal to 2')\n    print(symbol*width)\n    \n    for i in range(height-2):\n        print(symbol + (' ' * (width-2)) + symbol)\n        \n    print(symbol*width)\n\nBoxprint('*',1,1)   \n#Boxprint('*',7,6)\n#Boxprint('o',15,6)",
      "execution_count": 13,
      "outputs": [
        {
          "output_type": "error",
          "ename": "Exception",
          "evalue": "\"width\" and \"height\" must be greater or equal to 2",
          "traceback": [
            "\u001b[0;31m---------------------------------------------------------------------------\u001b[0m",
            "\u001b[0;31mException\u001b[0m                                 Traceback (most recent call last)",
            "\u001b[0;32m<ipython-input-13-ae04b4f6a308>\u001b[0m in \u001b[0;36m<module>\u001b[0;34m\u001b[0m\n\u001b[1;32m     11\u001b[0m     \u001b[0mprint\u001b[0m\u001b[0;34m(\u001b[0m\u001b[0msymbol\u001b[0m\u001b[0;34m*\u001b[0m\u001b[0mwidth\u001b[0m\u001b[0;34m)\u001b[0m\u001b[0;34m\u001b[0m\u001b[0m\n\u001b[1;32m     12\u001b[0m \u001b[0;34m\u001b[0m\u001b[0m\n\u001b[0;32m---> 13\u001b[0;31m \u001b[0mBoxprint\u001b[0m\u001b[0;34m(\u001b[0m\u001b[0;34m'*'\u001b[0m\u001b[0;34m,\u001b[0m\u001b[0;36m1\u001b[0m\u001b[0;34m,\u001b[0m\u001b[0;36m1\u001b[0m\u001b[0;34m)\u001b[0m\u001b[0;34m\u001b[0m\u001b[0m\n\u001b[0m\u001b[1;32m     14\u001b[0m \u001b[0;31m#Boxprint('*',7,6)\u001b[0m\u001b[0;34m\u001b[0m\u001b[0;34m\u001b[0m\u001b[0m\n\u001b[1;32m     15\u001b[0m \u001b[0;31m#Boxprint('o',15,6)\u001b[0m\u001b[0;34m\u001b[0m\u001b[0;34m\u001b[0m\u001b[0m\n",
            "\u001b[0;32m<ipython-input-13-ae04b4f6a308>\u001b[0m in \u001b[0;36mBoxprint\u001b[0;34m(symbol, width, height)\u001b[0m\n\u001b[1;32m      3\u001b[0m         \u001b[0;32mraise\u001b[0m \u001b[0mException\u001b[0m\u001b[0;34m(\u001b[0m\u001b[0;34m'\"symbol\" needs to a string of length 1'\u001b[0m\u001b[0;34m)\u001b[0m\u001b[0;34m\u001b[0m\u001b[0m\n\u001b[1;32m      4\u001b[0m     \u001b[0;32mif\u001b[0m \u001b[0;34m(\u001b[0m\u001b[0mwidth\u001b[0m\u001b[0;34m<\u001b[0m\u001b[0;36m2\u001b[0m\u001b[0;34m)\u001b[0m \u001b[0;32mor\u001b[0m \u001b[0;34m(\u001b[0m\u001b[0mheight\u001b[0m\u001b[0;34m<\u001b[0m\u001b[0;36m2\u001b[0m\u001b[0;34m)\u001b[0m\u001b[0;34m:\u001b[0m\u001b[0;34m\u001b[0m\u001b[0m\n\u001b[0;32m----> 5\u001b[0;31m         \u001b[0;32mraise\u001b[0m \u001b[0mException\u001b[0m\u001b[0;34m(\u001b[0m\u001b[0;34m'\"width\" and \"height\" must be greater or equal to 2'\u001b[0m\u001b[0;34m)\u001b[0m\u001b[0;34m\u001b[0m\u001b[0m\n\u001b[0m\u001b[1;32m      6\u001b[0m     \u001b[0mprint\u001b[0m\u001b[0;34m(\u001b[0m\u001b[0msymbol\u001b[0m\u001b[0;34m*\u001b[0m\u001b[0mwidth\u001b[0m\u001b[0;34m)\u001b[0m\u001b[0;34m\u001b[0m\u001b[0m\n\u001b[1;32m      7\u001b[0m \u001b[0;34m\u001b[0m\u001b[0m\n",
            "\u001b[0;31mException\u001b[0m: \"width\" and \"height\" must be greater or equal to 2"
          ]
        }
      ]
    },
    {
      "metadata": {
        "trusted": true
      },
      "cell_type": "code",
      "source": "import traceback\ntry:\n    raise Exception('This is the error message.')\nexcept:\n    errorFile=open('error_lod.txt','a')\n    errorFile.write(traceback.format_exc())\n    errorFile.close()\n    print('The traceback info was added ti error_lod.txt')",
      "execution_count": 16,
      "outputs": [
        {
          "output_type": "stream",
          "text": "The traceback info was added ti error_lod.txt\n",
          "name": "stdout"
        }
      ]
    },
    {
      "metadata": {
        "trusted": true
      },
      "cell_type": "code",
      "source": "import os\nos.getcwd()",
      "execution_count": 14,
      "outputs": [
        {
          "output_type": "execute_result",
          "execution_count": 14,
          "data": {
            "text/plain": "'/home/nbuser/library'"
          },
          "metadata": {}
        }
      ]
    },
    {
      "metadata": {},
      "cell_type": "markdown",
      "source": "# Assertion"
    },
    {
      "metadata": {
        "trusted": true
      },
      "cell_type": "code",
      "source": "borivali={'ns': 'green', 'ew' : 'red' }\n\ndef signallights(intersection):\n    for key in intersection.keys():\n        if intersection[key] == 'green':\n            intersection[key]=='yellow'\n        elif intersection[key] =='yellow':\n            intersection[key]=='red'\n        elif intersection[key]=='red':\n            intersection[key]=='green'\n    assert \"red\" in intersection.values(), 'neither light is red!' + str(intersection)\nsignallights(borivali)\n    ",
      "execution_count": 20,
      "outputs": []
    },
    {
      "metadata": {},
      "cell_type": "markdown",
      "source": "# Logging"
    },
    {
      "metadata": {
        "trusted": true
      },
      "cell_type": "code",
      "source": "import logging\nlogging.basicConfig(filename='myprogramLog.txt',level=logging.DEBUG, format='%(asctime)s - %(levelname)s - %(message)s')\n#logging.disable(logging.CRITICAL)\nlogging.debug('Start of program')\n\n\ndef factorial(n):\n    logging.debug('Start of factorial (%s)',n)\n    total=1\n    \n    for i in range(1,n+1):\n        total*=i\n        logging.debug('i is %s,total is %s', i,total)\n    logging.debug('Return value is %s',total)\n    return total\nprint(factorial(5))\n\nlogging.debug('End of program')",
      "execution_count": 28,
      "outputs": [
        {
          "output_type": "stream",
          "text": "120\n",
          "name": "stdout"
        }
      ]
    },
    {
      "metadata": {
        "trusted": true
      },
      "cell_type": "markdown",
      "source": "# WEB Browser "
    },
    {
      "metadata": {
        "trusted": true
      },
      "cell_type": "code",
      "source": "import webbrowser\nwebbrowser.open('https://google.com')",
      "execution_count": 3,
      "outputs": [
        {
          "output_type": "execute_result",
          "execution_count": 3,
          "data": {
            "text/plain": "True"
          },
          "metadata": {}
        }
      ]
    },
    {
      "metadata": {
        "trusted": true
      },
      "cell_type": "code",
      "source": "! pip install pyperclip\nimport webbrowser , sys ,pyperclip\n\nsys.argv # ['mapit.py','870','Valencia','St.']\n\n\n#Check if command line arguements were passed \n\nif len(sys.argv) > 1:\n    # ['mapit.py','870','Valencia','St.']-->'870 Valecia St.'\n    address=' '.join(sys.argv[1:])\n    \nelse:\n    address=pyperclip.paste()\n    \n# https://google.com/maps/place/<ADDRESS>\nwebbrowser.open('https://google.com/maps/place/' + address)",
      "execution_count": 29,
      "outputs": [
        {
          "output_type": "stream",
          "text": "Requirement already satisfied: pyperclip in /home/nbuser/anaconda3_501/lib/python3.6/site-packages (1.8.0)\n\u001b[33mWARNING: You are using pip version 19.3.1; however, version 20.1.1 is available.\nYou should consider upgrading via the 'pip install --upgrade pip' command.\u001b[0m\n",
          "name": "stdout"
        },
        {
          "output_type": "execute_result",
          "execution_count": 29,
          "data": {
            "text/plain": "True"
          },
          "metadata": {}
        }
      ]
    },
    {
      "metadata": {
        "trusted": true
      },
      "cell_type": "code",
      "source": "\nimport webbrowser , sys ,pyperclip\n\nsys.argv # ['mapit.py','870','Valencia','St.']\n\n\n#Check if command line arguements were passed \n\nif len(sys.argv) > 1:\n    # ['mapit.py','870','Valencia','St.']-->'870 Valecia St.'\n    address=' '.join(sys.argv[1:])\n    \nelse:\n    address=pyperclip.paste()\n    \n# https://google.com/maps/place/<ADDRESS>\nwebbrowser.open('https://google.com/maps/place/' + address)",
      "execution_count": 7,
      "outputs": [
        {
          "output_type": "execute_result",
          "execution_count": 7,
          "data": {
            "text/plain": "True"
          },
          "metadata": {}
        }
      ]
    },
    {
      "metadata": {
        "trusted": true
      },
      "cell_type": "code",
      "source": "!pip install requests",
      "execution_count": 9,
      "outputs": [
        {
          "output_type": "stream",
          "text": "Requirement already satisfied: requests in /home/nbuser/anaconda3_501/lib/python3.6/site-packages (2.22.0)\nRequirement already satisfied: urllib3!=1.25.0,!=1.25.1,<1.26,>=1.21.1 in /home/nbuser/anaconda3_501/lib/python3.6/site-packages (from requests) (1.23)\nRequirement already satisfied: idna<2.9,>=2.5 in /home/nbuser/anaconda3_501/lib/python3.6/site-packages (from requests) (2.7)\nRequirement already satisfied: certifi>=2017.4.17 in /home/nbuser/anaconda3_501/lib/python3.6/site-packages (from requests) (2018.10.15)\nRequirement already satisfied: chardet<3.1.0,>=3.0.2 in /home/nbuser/anaconda3_501/lib/python3.6/site-packages (from requests) (3.0.4)\n\u001b[33mWARNING: You are using pip version 19.3.1; however, version 20.1.1 is available.\nYou should consider upgrading via the 'pip install --upgrade pip' command.\u001b[0m\n",
          "name": "stdout"
        }
      ]
    },
    {
      "metadata": {
        "trusted": true
      },
      "cell_type": "code",
      "source": "import requests \nres = requests.get('https://automatetheboringstuff.com/files/rj.txt')\nres.status_code",
      "execution_count": 11,
      "outputs": [
        {
          "output_type": "execute_result",
          "execution_count": 11,
          "data": {
            "text/plain": "200"
          },
          "metadata": {}
        }
      ]
    },
    {
      "metadata": {
        "trusted": true
      },
      "cell_type": "code",
      "source": "len(res.text)",
      "execution_count": 13,
      "outputs": [
        {
          "output_type": "execute_result",
          "execution_count": 13,
          "data": {
            "text/plain": "178978"
          },
          "metadata": {}
        }
      ]
    },
    {
      "metadata": {
        "trusted": true
      },
      "cell_type": "code",
      "source": "print(res.text[:500])",
      "execution_count": 14,
      "outputs": [
        {
          "output_type": "stream",
          "text": "The Project Gutenberg EBook of Romeo and Juliet, by William Shakespeare\r\n\r\nThis eBook is for the use of anyone anywhere at no cost and with\r\nalmost no restrictions whatsoever.  You may copy it, give it away or\r\nre-use it under the terms of the Project Gutenberg License included\r\nwith this eBook or online at www.gutenberg.org/license\r\n\r\n\r\nTitle: Romeo and Juliet\r\n\r\nAuthor: William Shakespeare\r\n\r\nPosting Date: May 25, 2012 [EBook #1112]\r\nRelease Date: November, 1997  [Etext #1112]\r\n\r\nLanguage: Eng\n",
          "name": "stdout"
        }
      ]
    },
    {
      "metadata": {
        "trusted": true
      },
      "cell_type": "code",
      "source": "res.raise_for_status() # no error so print nothning",
      "execution_count": 15,
      "outputs": []
    },
    {
      "metadata": {
        "trusted": true
      },
      "cell_type": "code",
      "source": "playFile=open('RomeioAndJuliet.txt','wb')",
      "execution_count": 16,
      "outputs": []
    },
    {
      "metadata": {
        "trusted": true
      },
      "cell_type": "code",
      "source": "for chunk in res.iter_content(100000):\n    playFile.write(chunk)",
      "execution_count": 19,
      "outputs": []
    },
    {
      "metadata": {},
      "cell_type": "markdown",
      "source": "# Beautifulsoup"
    },
    {
      "metadata": {
        "trusted": true
      },
      "cell_type": "code",
      "source": "! pip install beautifulsoup4",
      "execution_count": 23,
      "outputs": [
        {
          "output_type": "stream",
          "text": "Requirement already satisfied: beautifulsoup4 in /home/nbuser/anaconda3_501/lib/python3.6/site-packages (4.6.3)\n\u001b[33mWARNING: You are using pip version 19.3.1; however, version 20.1.1 is available.\nYou should consider upgrading via the 'pip install --upgrade pip' command.\u001b[0m\n",
          "name": "stdout"
        }
      ]
    },
    {
      "metadata": {
        "trusted": true
      },
      "cell_type": "code",
      "source": "import bs4,requests\n\nres= requests.get('https://www.amazon.in/Lenovo-Tab-M10-FHD-REL/dp/B084W8J924/ref=lp_21524256031_1_1?s=computers&ie=UTF8&qid=1590571096&sr=1-1')\nres.raise_for_status()\n",
      "execution_count": 24,
      "outputs": []
    },
    {
      "metadata": {
        "trusted": true
      },
      "cell_type": "code",
      "source": "soup= bs4.BeautifulSoup(res.text,'html.parser')",
      "execution_count": 25,
      "outputs": []
    },
    {
      "metadata": {
        "trusted": true
      },
      "cell_type": "code",
      "source": "elems=soup.select('#priceblock_ourprice')",
      "execution_count": 28,
      "outputs": []
    },
    {
      "metadata": {
        "trusted": true
      },
      "cell_type": "code",
      "source": "elems[0].text",
      "execution_count": 30,
      "outputs": [
        {
          "output_type": "execute_result",
          "execution_count": 30,
          "data": {
            "text/plain": "'₹\\xa015,999.00'"
          },
          "metadata": {}
        }
      ]
    },
    {
      "metadata": {
        "trusted": true
      },
      "cell_type": "code",
      "source": "elems[0].text.strip()",
      "execution_count": 31,
      "outputs": [
        {
          "output_type": "execute_result",
          "execution_count": 31,
          "data": {
            "text/plain": "'₹\\xa015,999.00'"
          },
          "metadata": {}
        }
      ]
    },
    {
      "metadata": {
        "trusted": true
      },
      "cell_type": "code",
      "source": "import bs4,requests\n\nglobal url_1\nurl_1='https://www.amazon.in/IKALL-Android-Calling-Tablet-White/dp/B07X8H5QQ6/ref=lp_1375458031_1_2_sspa?s=computers&ie=UTF8&qid=1590571092&sr=1-2-spons&psc=1&spLa=ZW5jcnlwdGVkUXVhbGlmaWVyPUExMTNMQUtVS0g3TkJQJmVuY3J5cHRlZElkPUEwNjE1NjY2M0ZKRTlZVVBZUkdCRiZlbmNyeXB0ZWRBZElkPUEwNjA5Mjg3MUlDMlJUT1hQSkJTRyZ3aWRnZXROYW1lPXNwX2F0Zl9icm93c2UmYWN0aW9uPWNsaWNrUmVkaXJlY3QmZG9Ob3RMb2dDbGljaz10cnVl'\ndef getAmazonPrice(ProductUrl):\n    \n    res.raise_for_status()\n    soup=bs4.BeautifulSoup(res.text,'html.parser')\n    \n    elems=soup.select('#priceblock_ourprice')\n    return elems[0].text.strip()\n    \n    \n\nprice=getAmazonPrice(url_1)\n    \nprint('The price is :' + price)\n    \n    ",
      "execution_count": 1,
      "outputs": [
        {
          "output_type": "error",
          "ename": "NameError",
          "evalue": "name 'res' is not defined",
          "traceback": [
            "\u001b[0;31m---------------------------------------------------------------------------\u001b[0m",
            "\u001b[0;31mNameError\u001b[0m                                 Traceback (most recent call last)",
            "\u001b[0;32m<ipython-input-1-7355633d1885>\u001b[0m in \u001b[0;36m<module>\u001b[0;34m\u001b[0m\n\u001b[1;32m     13\u001b[0m \u001b[0;34m\u001b[0m\u001b[0m\n\u001b[1;32m     14\u001b[0m \u001b[0;34m\u001b[0m\u001b[0m\n\u001b[0;32m---> 15\u001b[0;31m \u001b[0mprice\u001b[0m\u001b[0;34m=\u001b[0m\u001b[0mgetAmazonPrice\u001b[0m\u001b[0;34m(\u001b[0m\u001b[0murl_1\u001b[0m\u001b[0;34m)\u001b[0m\u001b[0;34m\u001b[0m\u001b[0m\n\u001b[0m\u001b[1;32m     16\u001b[0m \u001b[0;34m\u001b[0m\u001b[0m\n\u001b[1;32m     17\u001b[0m \u001b[0mprint\u001b[0m\u001b[0;34m(\u001b[0m\u001b[0;34m'The price is :'\u001b[0m \u001b[0;34m+\u001b[0m \u001b[0mprice\u001b[0m\u001b[0;34m)\u001b[0m\u001b[0;34m\u001b[0m\u001b[0m\n",
            "\u001b[0;32m<ipython-input-1-7355633d1885>\u001b[0m in \u001b[0;36mgetAmazonPrice\u001b[0;34m(ProductUrl)\u001b[0m\n\u001b[1;32m      5\u001b[0m \u001b[0;32mdef\u001b[0m \u001b[0mgetAmazonPrice\u001b[0m\u001b[0;34m(\u001b[0m\u001b[0mProductUrl\u001b[0m\u001b[0;34m)\u001b[0m\u001b[0;34m:\u001b[0m\u001b[0;34m\u001b[0m\u001b[0m\n\u001b[1;32m      6\u001b[0m \u001b[0;34m\u001b[0m\u001b[0m\n\u001b[0;32m----> 7\u001b[0;31m     \u001b[0mres\u001b[0m\u001b[0;34m.\u001b[0m\u001b[0mraise_for_status\u001b[0m\u001b[0;34m(\u001b[0m\u001b[0;34m)\u001b[0m\u001b[0;34m\u001b[0m\u001b[0m\n\u001b[0m\u001b[1;32m      8\u001b[0m     \u001b[0msoup\u001b[0m\u001b[0;34m=\u001b[0m\u001b[0mbs4\u001b[0m\u001b[0;34m.\u001b[0m\u001b[0mBeautifulSoup\u001b[0m\u001b[0;34m(\u001b[0m\u001b[0mres\u001b[0m\u001b[0;34m.\u001b[0m\u001b[0mtext\u001b[0m\u001b[0;34m,\u001b[0m\u001b[0;34m'html.parser'\u001b[0m\u001b[0;34m)\u001b[0m\u001b[0;34m\u001b[0m\u001b[0m\n\u001b[1;32m      9\u001b[0m \u001b[0;34m\u001b[0m\u001b[0m\n",
            "\u001b[0;31mNameError\u001b[0m: name 'res' is not defined"
          ]
        }
      ]
    },
    {
      "metadata": {
        "trusted": true
      },
      "cell_type": "markdown",
      "source": "# SELENIUM (install Firefox for selenium)"
    },
    {
      "metadata": {
        "trusted": true
      },
      "cell_type": "code",
      "source": "!pip install selenium",
      "execution_count": 2,
      "outputs": [
        {
          "output_type": "stream",
          "text": "Collecting selenium\n\u001b[?25l  Downloading https://files.pythonhosted.org/packages/80/d6/4294f0b4bce4de0abf13e17190289f9d0613b0a44e5dd6a7f5ca98459853/selenium-3.141.0-py2.py3-none-any.whl (904kB)\n\u001b[K     |████████████████████████████████| 911kB 1.3MB/s eta 0:00:01\n\u001b[?25hRequirement already satisfied: urllib3 in /home/nbuser/anaconda3_501/lib/python3.6/site-packages (from selenium) (1.23)\nInstalling collected packages: selenium\nSuccessfully installed selenium-3.141.0\n\u001b[33mWARNING: You are using pip version 19.3.1; however, version 20.1.1 is available.\nYou should consider upgrading via the 'pip install --upgrade pip' command.\u001b[0m\n",
          "name": "stdout"
        }
      ]
    },
    {
      "metadata": {
        "trusted": true
      },
      "cell_type": "code",
      "source": "from selenium import webdriver ",
      "execution_count": 3,
      "outputs": []
    },
    {
      "metadata": {
        "trusted": true
      },
      "cell_type": "code",
      "source": "browser=webdriver.Ie()",
      "execution_count": null,
      "outputs": []
    },
    {
      "metadata": {
        "trusted": true
      },
      "cell_type": "code",
      "source": "browser.get('https://automatetheboringstuff.com')\nelem=browser.find_element_by_css_selector('body > div.main > div:nth-child(1) > ul:nth-child(20) > li:nth-child(1) > a')\nelem.click()\n# general selector\nelems=browser.find_elements_by_css_selector('p')\nlen(elems)\n\nsearchElem = browser.find_elements_by_css_selector('.search-field')\nsearchElem.send_keys('harsh')#write in seasrch field\nsearchElem.submit()\nbrowser.back()\nbrowser.forward()\nbrowser.refresh()\nbrowser.quit()\n\n\n",
      "execution_count": null,
      "outputs": []
    },
    {
      "metadata": {
        "trusted": true
      },
      "cell_type": "code",
      "source": "browser.get('https://automatetheboringstuff.com')\nelem=browser.find_element_by_css_selector('#calibre_link-1610 > p:nth-child(116)')\nelem.text()\n",
      "execution_count": null,
      "outputs": []
    },
    {
      "metadata": {
        "trusted": true
      },
      "cell_type": "code",
      "source": "elem=browser.find_element_by_css_selector('html')\nelem.text()",
      "execution_count": null,
      "outputs": []
    },
    {
      "metadata": {},
      "cell_type": "markdown",
      "source": "# Excel ,word and pdf "
    },
    {
      "metadata": {
        "trusted": true
      },
      "cell_type": "code",
      "source": "!pip install openpyxl",
      "execution_count": 7,
      "outputs": [
        {
          "output_type": "stream",
          "text": "Requirement already satisfied: openpyxl in /home/nbuser/anaconda3_501/lib/python3.6/site-packages (2.5.8)\nRequirement already satisfied: jdcal in /home/nbuser/anaconda3_501/lib/python3.6/site-packages (from openpyxl) (1.4)\nRequirement already satisfied: et-xmlfile in /home/nbuser/anaconda3_501/lib/python3.6/site-packages (from openpyxl) (1.0.1)\n\u001b[33mWARNING: You are using pip version 19.3.1; however, version 20.1.1 is available.\nYou should consider upgrading via the 'pip install --upgrade pip' command.\u001b[0m\n",
          "name": "stdout"
        }
      ]
    },
    {
      "metadata": {
        "trusted": true
      },
      "cell_type": "code",
      "source": "import openpyxl,os\n",
      "execution_count": 8,
      "outputs": []
    },
    {
      "metadata": {
        "trusted": true
      },
      "cell_type": "code",
      "source": "\n# download exel file from \n\nos.chdir('path of the exel file saved')\n\n\nworkbook= openpyxl.load_workbook('exmaple.xlsx')\ntype(workbook)\n\nsheet=workbook.get_sheet_by_name('Sheet1')\ntype(sheet)\n\n",
      "execution_count": null,
      "outputs": []
    },
    {
      "metadata": {
        "trusted": true
      },
      "cell_type": "code",
      "source": "workbook.get_sheet_names()",
      "execution_count": null,
      "outputs": []
    },
    {
      "metadata": {
        "trusted": true
      },
      "cell_type": "code",
      "source": "sheet['A1']\ncell=sheet['A1']\ncell.value",
      "execution_count": null,
      "outputs": []
    },
    {
      "metadata": {
        "trusted": true
      },
      "cell_type": "code",
      "source": "print(str(cell.value))\nprint(str(sheet['A1'].value)\n      ",
      "execution_count": null,
      "outputs": []
    },
    {
      "metadata": {
        "trusted": true
      },
      "cell_type": "code",
      "source": "sheet['B1'].value\n\n\n",
      "execution_count": null,
      "outputs": []
    },
    {
      "metadata": {
        "trusted": true
      },
      "cell_type": "code",
      "source": "print(sheet['C1'].value)\n\nstr(sheet['C1'].value)\n\n",
      "execution_count": null,
      "outputs": []
    },
    {
      "metadata": {
        "trusted": true
      },
      "cell_type": "code",
      "source": "sheet.cell(row=1,column=2)\n# similar to B2\n\nfor i in range(1,8):\n    print(i,sheet.cell(row=i,column=2).value)",
      "execution_count": null,
      "outputs": []
    }
  ],
  "metadata": {
    "kernelspec": {
      "name": "python36",
      "display_name": "Python 3.6",
      "language": "python"
    },
    "language_info": {
      "mimetype": "text/x-python",
      "nbconvert_exporter": "python",
      "name": "python",
      "pygments_lexer": "ipython3",
      "version": "3.6.6",
      "file_extension": ".py",
      "codemirror_mode": {
        "version": 3,
        "name": "ipython"
      }
    }
  },
  "nbformat": 4,
  "nbformat_minor": 2
}